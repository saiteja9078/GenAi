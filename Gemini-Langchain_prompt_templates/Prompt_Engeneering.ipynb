{
 "cells": [
  {
   "cell_type": "code",
   "execution_count": null,
   "id": "7227a988",
   "metadata": {},
   "outputs": [],
   "source": [
    "import os\n",
    "!pip install google-generativeai langchain langchain_community langchain-google-genai google-generativeai\n",
    "os.environ[\"GOOGLE_APPLICATION_CREDENTIALS\"] = \"gen-lang-client-0394832619-e64baf946f3b.json\""
   ]
  },
  {
   "cell_type": "code",
   "execution_count": null,
   "id": "c8ecd9c5",
   "metadata": {},
   "outputs": [
    {
     "data": {
      "text/plain": [
       "AIMessage(content='Hello there! How can I help you today?', additional_kwargs={}, response_metadata={'prompt_feedback': {'block_reason': 0, 'safety_ratings': []}, 'finish_reason': 'STOP', 'safety_ratings': []}, id='run--887b217c-29eb-416a-9c66-da111ae44b9e-0', usage_metadata={'input_tokens': 1, 'output_tokens': 11, 'total_tokens': 12, 'input_token_details': {'cache_read': 0}})"
      ]
     },
     "execution_count": 53,
     "metadata": {},
     "output_type": "execute_result"
    }
   ],
   "source": [
    "from langchain_google_genai import ChatGoogleGenerativeAI\n",
    "from langchain.prompts import PromptTemplate\n",
    "from langchain.schema import HumanMessage\n",
    "llm = ChatGoogleGenerativeAI(model=\"gemini-2.0-flash\", google_api_key=os.getenv(\"GEMINI_API_KEY\"))\n",
    "llm([HumanMessage(content=\"hello\")])"
   ]
  },
  {
   "cell_type": "code",
   "execution_count": 20,
   "id": "0e03a9d9",
   "metadata": {},
   "outputs": [
    {
     "data": {
      "text/plain": [
       "'I want you to act as a acting financial advisor for people.\\nIn an easy way, explain the basics of income tax.'"
      ]
     },
     "execution_count": 20,
     "metadata": {},
     "output_type": "execute_result"
    }
   ],
   "source": [
    "demo_template='''I want you to act as a acting financial advisor for people.\n",
    "In an easy way, explain the basics of {financial_concept}.'''\n",
    "prompt1=PromptTemplate(\n",
    "    input_variables=[\"financial_concept\"],\n",
    "    template=demo_template\n",
    ")\n",
    "prompt1.format(financial_concept=\"income tax\")"
   ]
  },
  {
   "cell_type": "code",
   "execution_count": 21,
   "id": "b9665c8c",
   "metadata": {},
   "outputs": [
    {
     "name": "stderr",
     "output_type": "stream",
     "text": [
      "/var/folders/gk/cm66kf9j5qj4vzctc4gt_sxr0000gn/T/ipykernel_11686/2408551868.py:2: LangChainDeprecationWarning: The class `LLMChain` was deprecated in LangChain 0.1.17 and will be removed in 1.0. Use :meth:`~RunnableSequence, e.g., `prompt | llm`` instead.\n",
      "  chain1=LLMChain(\n"
     ]
    }
   ],
   "source": [
    "from langchain.chains import LLMChain\n",
    "chain1=LLMChain(\n",
    "    llm=llm,\n",
    "    prompt=prompt1\n",
    ")"
   ]
  },
  {
   "cell_type": "code",
   "execution_count": 23,
   "id": "3348aeec",
   "metadata": {},
   "outputs": [
    {
     "name": "stderr",
     "output_type": "stream",
     "text": [
      "/var/folders/gk/cm66kf9j5qj4vzctc4gt_sxr0000gn/T/ipykernel_11686/1291769836.py:1: LangChainDeprecationWarning: The method `Chain.run` was deprecated in langchain 0.1.0 and will be removed in 1.0. Use :meth:`~invoke` instead.\n",
      "  chain1.run(financial_concept=\"income tax\")\n"
     ]
    },
    {
     "data": {
      "text/plain": [
       "'Alright, let\\'s talk about income tax in a way that\\'s easy to understand. Think of me as your friendly neighborhood financial advisor, breaking it down for you.\\n\\n**What is Income Tax?**\\n\\nImagine you\\'re running a lemonade stand. You make money (income!) from selling lemonade. Now, the government is like your silent partner. They help provide things like roads, schools, and libraries, and they need money to do that. So, they ask for a small percentage of your lemonade stand earnings – that\\'s income tax!\\n\\n**In simpler terms:** Income tax is the money you pay to the government based on how much money you earn.\\n\\n**Key Concepts to Know:**\\n\\n*   **Gross Income:** This is the total amount of money you earn before anything is taken out. Think of it as all the money you made from your lemonade stand before you bought more lemons.\\n*   **Taxable Income:** This is the amount of your income that\\'s actually subject to tax. It\\'s usually LESS than your gross income because you get to subtract certain things called \"deductions\" and \"exemptions.\"\\n*   **Deductions:** Think of these as discounts on your income. They are expenses that the government allows you to subtract from your gross income, lowering your taxable income. Common deductions include things like student loan interest, contributions to retirement accounts (like a 401k or IRA), and sometimes medical expenses. The government offers these deductions to encourage certain behaviors.\\n*   **Exemptions:** These are similar to deductions, but they are often based on things like the number of dependents you have (children or other relatives you support).\\n*   **Tax Brackets:** The income tax system is often progressive, meaning that the more you earn, the higher percentage you pay in taxes. This is divided into \"tax brackets\". Each bracket has a different tax rate. You don\\'t pay the highest rate on all your income, just on the portion that falls into that specific bracket.\\n*   **Tax Rate:** This is the percentage of your income that you pay in taxes. For example, if your tax rate is 12%, you\\'ll pay 12 cents in taxes for every dollar of taxable income.\\n*   **Tax Credits:** Think of these as coupons from the government! They directly reduce the amount of tax you owe, dollar-for-dollar. Unlike deductions, which reduce your *taxable income*, credits reduce your *tax liability*.\\n\\n**How it Works (Simplified):**\\n\\n1.  **Calculate Your Gross Income:** Add up all the money you earned from all sources (job, investments, etc.).\\n2.  **Subtract Deductions and Exemptions:** Figure out which deductions and exemptions you qualify for and subtract them from your gross income to get your taxable income.\\n3.  **Determine Your Tax Bracket:** Look up the tax brackets for your filing status (single, married filing jointly, etc.) to see which bracket your taxable income falls into.\\n4.  **Calculate Your Tax Liability:** Use the tax rates for each bracket to calculate how much tax you owe.\\n5.  **Subtract Tax Credits:** If you qualify for any tax credits, subtract them from your tax liability.\\n6.  **Pay Your Taxes (or Get a Refund!):** If you\\'ve already paid enough taxes through payroll withholding (money taken out of your paycheck), you might get a refund. If you haven\\'t paid enough, you\\'ll need to pay the difference.\\n\\n**Important Considerations:**\\n\\n*   **Filing Status:** Your filing status (single, married filing jointly, head of household, etc.) affects your tax brackets, deductions, and credits.\\n*   **Tax Forms:** You\\'ll need to file a tax return with the IRS (Internal Revenue Service) using the appropriate tax forms. Common forms include Form 1040.\\n*   **Tax Software & Professionals:** You can use tax software to help you file your taxes, or you can hire a tax professional (like a CPA or tax preparer) to do it for you.\\n*   **Stay Informed:** Tax laws can change, so it\\'s important to stay informed about the latest rules and regulations.\\n\\n**Disclaimer:**\\n\\nI am an AI and cannot provide financial advice. This explanation is for educational purposes only and should not be considered a substitute for professional advice. Always consult with a qualified financial advisor or tax professional for personalized guidance.\\n\\n**In short, income tax is a way for the government to fund public services. Understanding the basics can help you minimize your tax burden and make smart financial decisions.**\\n\\nDo you have any specific questions about income tax that I can try to answer in a simplified way?  For example, are you wondering about a particular deduction or credit?'"
      ]
     },
     "execution_count": 23,
     "metadata": {},
     "output_type": "execute_result"
    }
   ],
   "source": [
    "chain1.run(financial_concept=\"income tax\")"
   ]
  },
  {
   "cell_type": "code",
   "execution_count": 26,
   "id": "d055c87e",
   "metadata": {},
   "outputs": [],
   "source": [
    "prompt2=PromptTemplate(\n",
    "    input_variables=[\"sentence\",\"language\"],\n",
    "    template=\"Translate the following senence '{sentence}' to {language} , just give me translation without any other text.\"\n",
    ")\n",
    "chain2=LLMChain(\n",
    "    llm=llm,\n",
    "    prompt=prompt2\n",
    ")"
   ]
  },
  {
   "cell_type": "code",
   "execution_count": 34,
   "id": "6fa03ce2",
   "metadata": {},
   "outputs": [
    {
     "data": {
      "text/plain": [
       "'お前は一体何者だ。'"
      ]
     },
     "execution_count": 34,
     "metadata": {},
     "output_type": "execute_result"
    }
   ],
   "source": [
    "chain2.run({'sentence':\"Who the hell are you\",'language':\"japanese\"})"
   ]
  },
  {
   "cell_type": "code",
   "execution_count": 46,
   "id": "511d9511",
   "metadata": {},
   "outputs": [],
   "source": [
    "from langchain import FewShotPromptTemplate,PromptTemplate\n",
    "\n",
    "#few shot exampeles\n",
    "examples =[\n",
    "    {'word':\"big\",'antonym':\"small\"},\n",
    "    {'word':\"boy\",'antonym':\"girl\"}\n",
    "]\n",
    "\n",
    "#next specify the template o format the examples e have provided\n",
    "example_formatter_template = \"\"\"word:{word}\\nantonym:{antonym}\"\"\"\n",
    "example_prompt = PromptTemplate(\n",
    "    input_variables=[\"word\",\"antonym\"],\n",
    "    template=example_formatter_template\n",
    ")"
   ]
  },
  {
   "cell_type": "code",
   "execution_count": 55,
   "id": "5f0ea471",
   "metadata": {},
   "outputs": [
    {
     "name": "stdout",
     "output_type": "stream",
     "text": [
      "Give me antonym of the word\n",
      "\n",
      "word:big\n",
      "antonym:small\n",
      "\n",
      "word:boy\n",
      "antonym:girl\n",
      "\n",
      "word:happy\n",
      "antonym:\n"
     ]
    }
   ],
   "source": [
    "few_shot_prompt = FewShotPromptTemplate(\n",
    "    examples=examples,\n",
    "    example_prompt=example_prompt,\n",
    "    prefix=\"Give me antonym of the word\",\n",
    "    suffix=\"word:{word}\\nantonym:\",\n",
    "    input_variables=[\"word\"]\n",
    ")\n",
    "few_shot_chain = LLMChain(\n",
    "    llm=llm,\n",
    "    prompt=few_shot_prompt\n",
    ")\n",
    "print(few_shot_prompt.format(word=\"happy\"))"
   ]
  },
  {
   "cell_type": "code",
   "execution_count": 58,
   "id": "ca172b49",
   "metadata": {},
   "outputs": [
    {
     "name": "stdout",
     "output_type": "stream",
     "text": [
      "word: happy\n",
      "antonym: **sad**\n"
     ]
    }
   ],
   "source": [
    "print(few_shot_chain.run({'word':\"happy\"}))"
   ]
  },
  {
   "cell_type": "code",
   "execution_count": null,
   "id": "bed447f7",
   "metadata": {},
   "outputs": [],
   "source": []
  }
 ],
 "metadata": {
  "kernelspec": {
   "display_name": "Python 3",
   "language": "python",
   "name": "python3"
  },
  "language_info": {
   "codemirror_mode": {
    "name": "ipython",
    "version": 3
   },
   "file_extension": ".py",
   "mimetype": "text/x-python",
   "name": "python",
   "nbconvert_exporter": "python",
   "pygments_lexer": "ipython3",
   "version": "3.12.7"
  }
 },
 "nbformat": 4,
 "nbformat_minor": 5
}
