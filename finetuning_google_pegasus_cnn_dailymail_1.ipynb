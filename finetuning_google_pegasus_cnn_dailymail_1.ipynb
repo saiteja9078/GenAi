{
 "cells": [
  {
   "cell_type": "code",
   "execution_count": null,
   "metadata": {
    "colab": {
     "base_uri": "https://localhost:8080/"
    },
    "id": "BHd3udSTPlcX",
    "outputId": "2d1e9370-5ac9-420c-a129-2a43b72b392b"
   },
   "outputs": [],
   "source": [
    "from datasets import load_dataset\n",
    "data = load_dataset(\"knkarthick/samsum\")"
   ]
  },
  {
   "cell_type": "code",
   "execution_count": null,
   "metadata": {
    "colab": {
     "base_uri": "https://localhost:8080/"
    },
    "id": "jKIzz8YFPrD_",
    "outputId": "8c6334a0-14ef-4b26-b9e5-1d6f8c1b468c"
   },
   "outputs": [],
   "source": [
    "from transformers import AutoModelForSeq2SeqLM, AutoTokenizer\n",
    "import torch\n",
    "\n",
    "# Load model and tokenizer\n",
    "model_path = \"google/pegasus-cnn_dailymail\"\n",
    "summarize_tokenizer = AutoTokenizer.from_pretrained(model_path)\n",
    "summrize_model = AutoModelForSeq2SeqLM.from_pretrained(model_path)\n",
    "\n",
    "# Fix device selection\n",
    "device = \"cuda\" if torch.cuda.is_available() else \"cpu\"\n",
    "summrize_model = summrize_model.to(device)"
   ]
  },
  {
   "cell_type": "code",
   "execution_count": null,
   "metadata": {
    "id": "AFbPOi5aPtNV"
   },
   "outputs": [],
   "source": [
    "def convert_examples_to_features(batch):\n",
    "    # Ensure all dialogues and summaries are strings\n",
    "    dialogues = []\n",
    "    summaries = []\n",
    "\n",
    "    for dialogue, summary in zip(batch[\"dialogue\"], batch[\"summary\"]):\n",
    "        # Convert to string and handle None values\n",
    "        dialogue_str = str(dialogue) if dialogue is not None else \"\"\n",
    "        summary_str = str(summary) if summary is not None else \"\"\n",
    "\n",
    "        dialogues.append(dialogue_str)\n",
    "        summaries.append(summary_str)\n",
    "\n",
    "    # Tokenize inputs (dialogue)\n",
    "    model_inputs = summarize_tokenizer(\n",
    "        dialogues,\n",
    "        max_length=1024,\n",
    "        truncation=True,\n",
    "        padding=\"max_length\",\n",
    "        return_tensors=None  # Important: return Python lists, not tensors\n",
    "    )\n",
    "\n",
    "    # Tokenize targets (summary)\n",
    "    labels = summarize_tokenizer(\n",
    "        summaries,\n",
    "        max_length=128,\n",
    "        truncation=True,\n",
    "        padding=\"max_length\",\n",
    "        return_tensors=None  # Important: return Python lists, not tensors\n",
    "    )\n",
    "\n",
    "    model_inputs[\"labels\"] = labels[\"input_ids\"]\n",
    "    return model_inputs\n"
   ]
  },
  {
   "cell_type": "code",
   "execution_count": null,
   "metadata": {
    "colab": {
     "base_uri": "https://localhost:8080/",
     "height": 49,
     "referenced_widgets": [
      "73748518d3a24188ad192c6ade18da41",
      "146f0924b4654485872e54d315fb2e62",
      "4710289f80bf4265a7951ff16a3a21a0",
      "cb38f8e36f3043d180d7987e66b81531",
      "c6d54be6b6644a52bb1fe5fffec88954",
      "83b4f5b9c4a2460786e9d8fb43a1b3a6",
      "0066bcf0337d4744a96db9bf33398af1",
      "b23c1e5826714d66a722b5df6ae09a81",
      "eeb0d51eba254cd4ad0c4c297246c80c",
      "c37dae4ffac842a5a0a1f0022959e971",
      "be1377fcd8fd4f54ae10f1dba3c06978"
     ]
    },
    "id": "9KatOG2dQ7fk",
    "outputId": "1b41e367-2191-42b8-8ea8-ed877dece3b2"
   },
   "outputs": [],
   "source": [
    "tokenized_dataset_train = data[\"train\"].map(convert_examples_to_features,batched=True,remove_columns=[\"id\", \"dialogue\", \"summary\"])\n",
    "tokenized_dataset_test = data[\"test\"].map(convert_examples_to_features,batched=True,remove_columns=[\"id\", \"dialogue\", \"summary\"])\n",
    "tokenized_dataset_validation = data[\"validation\"].map(convert_examples_to_features,batched=True,remove_columns=[\"id\", \"dialogue\", \"summary\"])\n"
   ]
  },
  {
   "cell_type": "code",
   "execution_count": null,
   "metadata": {
    "colab": {
     "base_uri": "https://localhost:8080/"
    },
    "id": "gAuj2YXISeIH",
    "outputId": "d83a790a-06a9-4804-dded-77370d6a2d21"
   },
   "outputs": [],
   "source": [
    "!pip install rouge_score"
   ]
  },
  {
   "cell_type": "code",
   "execution_count": null,
   "metadata": {
    "id": "DPis5LVMU31k"
   },
   "outputs": [],
   "source": [
    "import evaluate\n",
    "import numpy as np\n",
    "rouge = evaluate.load(\"rouge\")\n",
    "def compute_metrics(eval_pred):\n",
    "    predictions, labels = eval_pred\n",
    "\n",
    "    # Decode predictions and labels\n",
    "    decoded_preds = tokenizer.batch_decode(predictions, skip_special_tokens=True)\n",
    "\n",
    "    # Replace -100 in the labels as we can't decode them\n",
    "    labels = np.where(labels != -100, labels, tokenizer.pad_token_id)\n",
    "    decoded_labels = tokenizer.batch_decode(labels, skip_special_tokens=True)\n",
    "\n",
    "    # Clean up predictions and labels\n",
    "    decoded_preds = [pred.strip() for pred in decoded_preds]\n",
    "    decoded_labels = [label.strip() for label in decoded_labels]\n",
    "\n",
    "    # Compute ROUGE scores\n",
    "    result = rouge.compute(\n",
    "        predictions=decoded_preds,\n",
    "        references=decoded_labels,\n",
    "        use_stemmer=True\n",
    "    )\n",
    "\n",
    "    # Extract ROUGE scores\n",
    "    result = {key: value * 100 for key, value in result.items()}\n",
    "\n",
    "    # Add average length of predictions\n",
    "    prediction_lens = [len(tokenizer.encode(pred)) for pred in decoded_preds]\n",
    "    result[\"gen_len\"] = np.mean(prediction_lens)\n",
    "\n",
    "    return {k: round(v, 4) for k, v in result.items()}"
   ]
  },
  {
   "cell_type": "code",
   "execution_count": null,
   "metadata": {
    "id": "SBi013dmYG_v"
   },
   "outputs": [],
   "source": [
    "# Data collator for dynamic padding\n",
    "from transformers import DataCollatorForSeq2Seq\n",
    "data_collator = DataCollatorForSeq2Seq(\n",
    "    tokenizer=summarize_tokenizer,\n",
    "    model=summrize_model,\n",
    "    padding=True,\n",
    "    return_tensors=\"pt\"\n",
    ")"
   ]
  },
  {
   "cell_type": "code",
   "execution_count": null,
   "metadata": {
    "id": "oirLB-CpZNUL"
   },
   "outputs": [],
   "source": [
    "from transformers import TrainingArguments,Trainer\n",
    "training_args = TrainingArguments(\n",
    "    output_dir=\"./pegasus-samsum\",           # Output directory\n",
    "    eval_strategy=\"steps\",              # Evaluate every N steps\n",
    "    eval_steps=500,                          # Evaluation frequency\n",
    "    logging_strategy=\"steps\",                # Log every N steps\n",
    "    logging_steps=100,                       # Logging frequency\n",
    "    save_strategy=\"steps\",                   # Save every N steps\n",
    "    save_steps=500,                          # Save frequency\n",
    "    save_total_limit=3,                      # Keep only 3 checkpoints\n",
    "    load_best_model_at_end=True,            # Load best model at end\n",
    "    metric_for_best_model=\"rouge1\",         # Metric to determine best model\n",
    "    greater_is_better=True,                 # Higher ROUGE is better\n",
    "\n",
    "    # Training hyperparameters - CUSTOMIZE THESE\n",
    "    num_train_epochs=3,                     # Start with 1-2 epochs for testing\n",
    "    per_device_train_batch_size=2,          # Reduce to 1-2 if GPU memory is limited\n",
    "    per_device_eval_batch_size=2,           # Match train batch size\n",
    "    gradient_accumulation_steps=8,          # Increase if reducing batch size\n",
    "    warmup_steps=500,                       # 10% of total steps is good\n",
    "    learning_rate=5e-5,                     # Try 3e-5 or 1e-4 if convergence is slow\n",
    "    weight_decay=0.01,                      # Regularization\n",
    "\n",
    "    # Memory optimization - IMPORTANT FOR LIMITED GPU MEMORY\n",
    "    fp16=True,                              # Use mixed precision (saves ~50% memory)\n",
    "    gradient_checkpointing=True,            # Trade compute for memory\n",
    "    dataloader_pin_memory=False,            # Disable if having memory issues\n",
    "    remove_unused_columns=False,            # Keep all columns\n",
    "\n",
    "    # Logging and reporting\n",
    "    report_to=\"none\",                       # Change to \"wandb\" if you want tracking\n",
    "    run_name=\"pegasus-samsum-finetuning\",   # Run name\n",
    ")"
   ]
  },
  {
   "cell_type": "code",
   "execution_count": null,
   "metadata": {
    "colab": {
     "base_uri": "https://localhost:8080/"
    },
    "id": "CmIQD6JTZT-4",
    "outputId": "c3fc2126-9db1-432f-bbba-0e2f5282ed3c"
   },
   "outputs": [],
   "source": [
    "summarize_trainer = Trainer(\n",
    "    model=summrize_model,\n",
    "    args=training_args,\n",
    "    train_dataset=tokenized_dataset_test,\n",
    "    eval_dataset=tokenized_dataset_validation,\n",
    "    tokenizer=summarize_tokenizer,\n",
    "    data_collator=data_collator,\n",
    "    compute_metrics=compute_metrics,\n",
    ")"
   ]
  },
  {
   "cell_type": "code",
   "execution_count": null,
   "metadata": {
    "colab": {
     "base_uri": "https://localhost:8080/",
     "height": 185
    },
    "id": "0g_5oUtQa6nW",
    "outputId": "c3a69ca5-1abd-4955-9421-770b5880a3c5"
   },
   "outputs": [],
   "source": [
    "summarize_trainer.train()"
   ]
  },
  {
   "cell_type": "code",
   "execution_count": null,
   "metadata": {
    "colab": {
     "base_uri": "https://localhost:8080/"
    },
    "id": "rnch4YP3bMey",
    "outputId": "77f819d1-fa25-4716-ef42-79f62ab07a1f"
   },
   "outputs": [],
   "source": [
    "from transformers import pipeline\n",
    "tester = pipeline(task=\"summarization\",model=summrize_model,tokenizer=summarize_tokenizer)\n",
    "tester.predict(\"Olivia: Who are you voting for in this election? \\nOliver: Liberals as always.\\nOlivia: Me too!!\\nOliver: Great\")"
   ]
  },
  {
   "cell_type": "code",
   "execution_count": null,
   "metadata": {
    "colab": {
     "base_uri": "https://localhost:8080/",
     "height": 35
    },
    "id": "1wnAt56SqZt1",
    "outputId": "5c54eb13-b2ef-441f-b1aa-746ba4ec7229"
   },
   "outputs": [],
   "source": [
    "data[\"train\"][\"dialogue\"][1]"
   ]
  },
  {
   "cell_type": "code",
   "execution_count": null,
   "metadata": {
    "id": "KDTXwFTWrWU3"
   },
   "outputs": [],
   "source": []
  }
 ],
 "metadata": {
  "accelerator": "GPU",
  "colab": {
   "gpuType": "T4",
   "provenance": [],
   "toc_visible": true
  },
  "kernelspec": {
   "display_name": "Python 3",
   "name": "python3"
  },
  "language_info": {
   "name": "python"
  }
 },
 "nbformat": 4,
 "nbformat_minor": 0
}
